{
 "cells": [
  {
   "cell_type": "code",
   "execution_count": 6,
   "metadata": {},
   "outputs": [
    {
     "name": "stdout",
     "output_type": "stream",
     "text": [
      "Enter entries row-wise\n",
      "1\n",
      "2\n",
      "3\n",
      "4\n",
      "5\n",
      "6\n",
      "7\n",
      "8\n",
      "0\n",
      "[[1, 2, 3], [4, 5, 6], [7, 8, 0]]\n"
     ]
    }
   ],
   "source": [
    "# Getting input from user\n",
    "print(\"Enter entries row-wise\")\n",
    "Input_node = []\n",
    "for i in range(3):\n",
    "    element_val = []\n",
    "    for j in range(3):\n",
    "        element_val.append(int(input()))\n",
    "    Input_node.append(element_val)\n",
    "'''\n",
    "#printing the values in a 3x3 matrix\n",
    "print(\"\\n The Input matrix is as follows\\n\")\n",
    "for i in range(3):\n",
    "    for j in range(3):\n",
    "        print(Input_node[i][j], end=' ')\n",
    "    print()\n",
    "'''\n",
    "print(Input_node)"
   ]
  },
  {
   "cell_type": "code",
   "execution_count": 5,
   "metadata": {},
   "outputs": [
    {
     "name": "stdout",
     "output_type": "stream",
     "text": [
      "([1, 2, 3], [8, 0, 4], [7, 6, 5])\n"
     ]
    }
   ],
   "source": [
    "#Goal state\n",
    "Goal_state = ([1,2,3],\n",
    "              [8,0,4],\n",
    "              [7,6,5])\n",
    "print(Goal_state)"
   ]
  },
  {
   "cell_type": "code",
   "execution_count": 18,
   "metadata": {},
   "outputs": [
    {
     "name": "stdout",
     "output_type": "stream",
     "text": [
      "Row 2\n",
      "Column 2\n"
     ]
    }
   ],
   "source": [
    "#defining a function to determine the position of zero element.\n",
    "def zero_coord(node_i):\n",
    "    for i in range(3):\n",
    "        for j in range(3):\n",
    "            if (node_i[i][j]==0):\n",
    "                return i,j\n",
    "\n",
    "Goal_state = ([1,2,3],\n",
    "              [8,4,5],\n",
    "              [7,6,0])\n",
    "Row, Col=zero_coord(Goal_state)\n",
    "print(\"Row \"+ str(Row))\n",
    "print(\"Column \"+ str(Col))"
   ]
  },
  {
   "cell_type": "code",
   "execution_count": 30,
   "metadata": {},
   "outputs": [
    {
     "name": "stdout",
     "output_type": "stream",
     "text": [
      "Cant shift left\n",
      "([1, 2, 3], [0, 4, 8], [7, 6, 5])\n"
     ]
    }
   ],
   "source": [
    "#defining function to swap the zero left\n",
    "def left_slide(node_i, Row, Col):\n",
    "    if Col==0:\n",
    "        print(\"Cant shift left\")\n",
    "    else:\n",
    "        swap = node_i[Row][Col-1]\n",
    "        node_i[Row][Col-1]=0\n",
    "        node_i[Row][Col]=swap\n",
    "    return node_i\n",
    "        \n",
    "Current_state = ([1,2,3],\n",
    "              [0,4,8],\n",
    "              [7,6,5])\n",
    "Row, Col=zero_coord(Current_state)\n",
    "print(left_slide(Current_state, Row, Col))\n"
   ]
  },
  {
   "cell_type": "code",
   "execution_count": 31,
   "metadata": {},
   "outputs": [
    {
     "name": "stdout",
     "output_type": "stream",
     "text": [
      "Cant shift right\n",
      "([1, 2, 3], [4, 8, 0], [7, 6, 5])\n"
     ]
    }
   ],
   "source": [
    "#defining function to swap the zero right\n",
    "def right_slide(node_i, Row, Col):\n",
    "    if Col==2:\n",
    "        print(\"Cant shift right\")\n",
    "    else:\n",
    "        swap = node_i[Row][Col+1]\n",
    "        node_i[Row][Col+1]=0\n",
    "        node_i[Row][Col]=swap\n",
    "    return node_i\n",
    "        \n",
    "Current_state = ([1,2,3],\n",
    "              [4,8,0],\n",
    "              [7,6,5])\n",
    "Row, Col=zero_coord(Current_state)\n",
    "print(right_slide(Current_state, Row, Col))"
   ]
  },
  {
   "cell_type": "code",
   "execution_count": 28,
   "metadata": {},
   "outputs": [
    {
     "name": "stdout",
     "output_type": "stream",
     "text": [
      "Cant shift up\n",
      "([1, 0, 3], [7, 4, 8], [2, 6, 5])\n"
     ]
    }
   ],
   "source": [
    "#defining function to swap the zero up\n",
    "def up_slide(node_i, Row, Col):\n",
    "    if Row==0:\n",
    "        print(\"Cant shift up\")\n",
    "    else:\n",
    "        swap = node_i[Row-1][Col]\n",
    "        node_i[Row-1][Col]=0\n",
    "        node_i[Row][Col]=swap\n",
    "    return node_i\n",
    "        \n",
    "Current_state = ([1,0,3],\n",
    "              [7,4,8],\n",
    "              [2,6,5])\n",
    "Row, Col=zero_coord(Current_state)\n",
    "print(up_slide(Current_state, Row, Col))"
   ]
  },
  {
   "cell_type": "code",
   "execution_count": 32,
   "metadata": {},
   "outputs": [
    {
     "name": "stdout",
     "output_type": "stream",
     "text": [
      "([1, 4, 3], [7, 0, 8], [2, 6, 5])\n"
     ]
    }
   ],
   "source": [
    "#defining function to swap the zero down\n",
    "def down_slide(node_i, Row, Col):\n",
    "    if Row==2:\n",
    "        print(\"Cant shift down\")\n",
    "    else:\n",
    "        swap = node_i[Row+1][Col]\n",
    "        node_i[Row+1][Col]=0\n",
    "        node_i[Row][Col]=swap\n",
    "    return node_i\n",
    "        \n",
    "Current_state = ([1,0,3],\n",
    "              [7,4,8],\n",
    "              [2,6,5])\n",
    "Row, Col=zero_coord(Current_state)\n",
    "print(down_slide(Current_state, Row, Col))"
   ]
  },
  {
   "cell_type": "code",
   "execution_count": 42,
   "metadata": {},
   "outputs": [
    {
     "name": "stdout",
     "output_type": "stream",
     "text": [
      "[[[1, 0, 3], [7, 4, 8], [2, 6, 5]], [[1, 2, 3], [4, 5, 6], [7, 0, 8]], [[1, 2, 3], [4, 5, 6], [7, 8, 0]]]\n"
     ]
    }
   ],
   "source": [
    "#checking if new node configuration already exists; if not appending the same onto the parent node:\n",
    "def check_and_append(Parent_node, new_config, count):\n",
    "    j=1\n",
    "    for i in range(count):\n",
    "        if (Parent_node[i]==new_config):  \n",
    "            j=0\n",
    "            break\n",
    "        \n",
    "    if j:\n",
    "        Parent_node.append(new_config)\n",
    "        count+=1\n",
    "    return Parent_node, count\n",
    "\n",
    "Count=2\n",
    "P_node= [[[1,0,3],\n",
    "          [7,4,8],\n",
    "         [2,6,5]],\n",
    "        [[1,2,3],\n",
    "        [4,5,6],\n",
    "        [7,0,8]]]\n",
    "n_config = [[1,2,3],[4,5,6],[7,0,8]]\n",
    "P_node, Count = check_and_append(P_node,n_config,Count)\n",
    "print(P_node)"
   ]
  },
  {
   "cell_type": "code",
   "execution_count": null,
   "metadata": {},
   "outputs": [],
   "source": []
  }
 ],
 "metadata": {
  "kernelspec": {
   "display_name": "Python 3",
   "language": "python",
   "name": "python3"
  },
  "language_info": {
   "codemirror_mode": {
    "name": "ipython",
    "version": 3
   },
   "file_extension": ".py",
   "mimetype": "text/x-python",
   "name": "python",
   "nbconvert_exporter": "python",
   "pygments_lexer": "ipython3",
   "version": "3.7.4"
  }
 },
 "nbformat": 4,
 "nbformat_minor": 2
}
